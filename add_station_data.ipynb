{
 "cells": [
  {
   "cell_type": "markdown",
   "id": "aa78c7ed-c26e-400a-bfde-0d33782b2f5f",
   "metadata": {
    "slideshow": {
     "slide_type": "slide"
    },
    "tags": []
   },
   "source": [
    "# Reading external station data into Pyaerocom"
   ]
  },
  {
   "cell_type": "code",
   "execution_count": 1,
   "id": "04b9bd17-3014-430c-8439-dc1a0663804c",
   "metadata": {
    "slideshow": {
     "slide_type": "skip"
    },
    "tags": []
   },
   "outputs": [],
   "source": [
    "import pyaerocom as pya\n",
    "from pyaerocom.io.utils import browse_database\n",
    "from pyaerocom.griddeddata import GriddedData\n",
    "from pyaerocom.ungriddeddata import UngriddedData\n",
    "import pandas as pd\n",
    "from pyaerocom.stationdata import StationData\n",
    "from pyaerocom.colocation import colocate_gridded_ungridded\n",
    "from pyaerocom.io.readgridded import ReadGridded\n",
    "import xarray as xr\n",
    "import cartopy.crs as ccrs\n",
    "import matplotlib.pyplot as plt\n",
    "import matplotlib as mpl\n",
    "from pyaerocom.plot.plotscatter import plot_scatter_aerocom\n",
    "import numpy as np"
   ]
  },
  {
   "cell_type": "markdown",
   "id": "34fb24c8-07ae-4c90-9df5-7777b2fb2cd0",
   "metadata": {},
   "source": [
    "To demonstrate how to add station data that outside of the AeroCom database we will use monthly data of coarse mode AOD from 23 AERONET stations in East Asia (this data are also available in AeroCom database).\n"
   ]
  },
  {
   "cell_type": "code",
   "execution_count": 15,
   "id": "de8540eb-c683-4a25-8bbf-7d7993bb263f",
   "metadata": {},
   "outputs": [
    {
     "name": "stdout",
     "output_type": "stream",
     "text": [
      "Aeronet SDA coarse mode AOD Monthly data from East Asian stations\n",
      "\n",
      "\n",
      ",Longitude,Latitude\n",
      "Baengnyeong,124.630278,37.966111\n",
      "Beijing_RADI,116.3786,40.0048\n",
      "Chen-Kung_Univ,120.204664,22.993419\n",
      "Dalanzadgad,104.419167,43.577222\n",
      "EPA-NCU,121.185483,24.967533\n",
      "Gwangju_GIST,126.843139,35.228278\n",
      "Hong_Kong_Hok_Tsui,114.258,22.2097\n",
      "Hong_Kong_PolyU,114.179722,22.303333\n",
      "Lanzhou_City,103.8534,36.04805\n",
      "Lulin,120.873611,23.468611\n",
      "Minqin,102.959,38.607\n",
      "NAM_CO,90.96245,30.772517\n",
      "NCU_Taiwan,121.187508,24.967662\n",
      "NUIST,118.71715,32.206483\n",
      "Noto,137.136944,37.334444\n",
      "Osaka,135.590633,34.650933\n",
      "QOMS_CAS,86.948056,28.365\n",
      "SACOL,104.137083,35.946\n",
      "Taihu,120.215333,31.421\n",
      "Taipei_CWB,121.53837,25.014683\n",
      "XiangHe,116.9615,39.7536\n",
      "Xinglong,117.578333,40.396389\n",
      "Yeomsan-Myeon,126.303012,35.23666\n",
      "\n"
     ]
    }
   ],
   "source": [
    "!head -n 28 demo_datasets/AERONET_V2_SDA_od550gt1aer2010_EastAsia.csv"
   ]
  },
  {
   "cell_type": "markdown",
   "id": "97b130f9-92f6-4b94-8e4f-5e8fcccce667",
   "metadata": {},
   "source": [
    "Read in the station coordinates and the station AOD."
   ]
  },
  {
   "cell_type": "code",
   "execution_count": 3,
   "id": "f12e2d0b-f219-4e5b-aca0-010e4d8d87dc",
   "metadata": {
    "slideshow": {
     "slide_type": "subslide"
    },
    "tags": []
   },
   "outputs": [],
   "source": [
    "station_coordinates = pd.read_csv('demo_datasets/AERONET_V2_SDA_od550gt1aer2010_EastAsia.csv',index_col=0, skiprows=4,nrows=23, names=['Station_name','Longitude','Latitude'])"
   ]
  },
  {
   "cell_type": "code",
   "execution_count": 4,
   "id": "91d0232e-4dc2-40dc-8ed5-da5391529fe0",
   "metadata": {},
   "outputs": [
    {
     "name": "stdout",
     "output_type": "stream",
     "text": [
      "tail: cannot open 'AERONET_V2_SDA_od550gt1aer2010_EastAsia.csv' for reading: No such file or directory\n"
     ]
    }
   ],
   "source": [
    "! tail -n 14 AERONET_V2_SDA_od550gt1aer2010_EastAsia.csv"
   ]
  },
  {
   "cell_type": "code",
   "execution_count": 5,
   "id": "87349676-d4bf-4ae8-ab10-1368ccb0021a",
   "metadata": {},
   "outputs": [],
   "source": [
    "data = pd.read_csv('demo_datasets/AERONET_V2_SDA_od550gt1aer2010_EastAsia.csv', skiprows=29,names=station_coordinates.index)"
   ]
  },
  {
   "cell_type": "code",
   "execution_count": 6,
   "id": "ea369cdb-11c1-4ab7-b6d6-6271dbe9da49",
   "metadata": {},
   "outputs": [
    {
     "data": {
      "text/html": [
       "<div>\n",
       "<style scoped>\n",
       "    .dataframe tbody tr th:only-of-type {\n",
       "        vertical-align: middle;\n",
       "    }\n",
       "\n",
       "    .dataframe tbody tr th {\n",
       "        vertical-align: top;\n",
       "    }\n",
       "\n",
       "    .dataframe thead th {\n",
       "        text-align: right;\n",
       "    }\n",
       "</style>\n",
       "<table border=\"1\" class=\"dataframe\">\n",
       "  <thead>\n",
       "    <tr style=\"text-align: right;\">\n",
       "      <th></th>\n",
       "      <th>Baengnyeong</th>\n",
       "      <th>Beijing_RADI</th>\n",
       "      <th>Chen-Kung_Univ</th>\n",
       "      <th>Dalanzadgad</th>\n",
       "      <th>EPA-NCU</th>\n",
       "      <th>Gwangju_GIST</th>\n",
       "      <th>Hong_Kong_Hok_Tsui</th>\n",
       "      <th>Hong_Kong_PolyU</th>\n",
       "      <th>Lanzhou_City</th>\n",
       "      <th>Lulin</th>\n",
       "      <th>...</th>\n",
       "      <th>NUIST</th>\n",
       "      <th>Noto</th>\n",
       "      <th>Osaka</th>\n",
       "      <th>QOMS_CAS</th>\n",
       "      <th>SACOL</th>\n",
       "      <th>Taihu</th>\n",
       "      <th>Taipei_CWB</th>\n",
       "      <th>XiangHe</th>\n",
       "      <th>Xinglong</th>\n",
       "      <th>Yeomsan-Myeon</th>\n",
       "    </tr>\n",
       "  </thead>\n",
       "  <tbody>\n",
       "    <tr>\n",
       "      <th>2010-01-15</th>\n",
       "      <td>NaN</td>\n",
       "      <td>0.061211</td>\n",
       "      <td>0.045836</td>\n",
       "      <td>0.045757</td>\n",
       "      <td>0.023874</td>\n",
       "      <td>0.059615</td>\n",
       "      <td>NaN</td>\n",
       "      <td>0.038909</td>\n",
       "      <td>0.209156</td>\n",
       "      <td>0.005336</td>\n",
       "      <td>...</td>\n",
       "      <td>0.109947</td>\n",
       "      <td>NaN</td>\n",
       "      <td>0.035112</td>\n",
       "      <td>0.023743</td>\n",
       "      <td>NaN</td>\n",
       "      <td>NaN</td>\n",
       "      <td>NaN</td>\n",
       "      <td>0.091098</td>\n",
       "      <td>NaN</td>\n",
       "      <td>NaN</td>\n",
       "    </tr>\n",
       "    <tr>\n",
       "      <th>2010-02-15</th>\n",
       "      <td>NaN</td>\n",
       "      <td>0.126141</td>\n",
       "      <td>0.083743</td>\n",
       "      <td>0.088876</td>\n",
       "      <td>0.027183</td>\n",
       "      <td>0.061163</td>\n",
       "      <td>NaN</td>\n",
       "      <td>0.051850</td>\n",
       "      <td>0.135080</td>\n",
       "      <td>0.007924</td>\n",
       "      <td>...</td>\n",
       "      <td>0.119307</td>\n",
       "      <td>NaN</td>\n",
       "      <td>0.038840</td>\n",
       "      <td>0.041428</td>\n",
       "      <td>NaN</td>\n",
       "      <td>0.087236</td>\n",
       "      <td>0.088850</td>\n",
       "      <td>0.115736</td>\n",
       "      <td>NaN</td>\n",
       "      <td>NaN</td>\n",
       "    </tr>\n",
       "    <tr>\n",
       "      <th>2010-03-15</th>\n",
       "      <td>NaN</td>\n",
       "      <td>0.177428</td>\n",
       "      <td>0.050300</td>\n",
       "      <td>0.102485</td>\n",
       "      <td>0.072157</td>\n",
       "      <td>0.180934</td>\n",
       "      <td>0.116754</td>\n",
       "      <td>0.141424</td>\n",
       "      <td>0.244739</td>\n",
       "      <td>0.011545</td>\n",
       "      <td>...</td>\n",
       "      <td>0.347140</td>\n",
       "      <td>NaN</td>\n",
       "      <td>0.127290</td>\n",
       "      <td>0.018391</td>\n",
       "      <td>NaN</td>\n",
       "      <td>0.272141</td>\n",
       "      <td>0.085634</td>\n",
       "      <td>0.141574</td>\n",
       "      <td>NaN</td>\n",
       "      <td>NaN</td>\n",
       "    </tr>\n",
       "    <tr>\n",
       "      <th>2010-04-15</th>\n",
       "      <td>NaN</td>\n",
       "      <td>0.194526</td>\n",
       "      <td>0.065657</td>\n",
       "      <td>0.043566</td>\n",
       "      <td>0.122488</td>\n",
       "      <td>0.090282</td>\n",
       "      <td>0.072067</td>\n",
       "      <td>0.115780</td>\n",
       "      <td>NaN</td>\n",
       "      <td>0.019157</td>\n",
       "      <td>...</td>\n",
       "      <td>0.282675</td>\n",
       "      <td>NaN</td>\n",
       "      <td>0.102373</td>\n",
       "      <td>0.016003</td>\n",
       "      <td>NaN</td>\n",
       "      <td>0.261105</td>\n",
       "      <td>0.122990</td>\n",
       "      <td>0.164962</td>\n",
       "      <td>NaN</td>\n",
       "      <td>NaN</td>\n",
       "    </tr>\n",
       "    <tr>\n",
       "      <th>2010-05-15</th>\n",
       "      <td>NaN</td>\n",
       "      <td>0.223336</td>\n",
       "      <td>0.065727</td>\n",
       "      <td>0.033986</td>\n",
       "      <td>0.105977</td>\n",
       "      <td>0.117585</td>\n",
       "      <td>0.077967</td>\n",
       "      <td>0.111838</td>\n",
       "      <td>NaN</td>\n",
       "      <td>0.024019</td>\n",
       "      <td>...</td>\n",
       "      <td>NaN</td>\n",
       "      <td>NaN</td>\n",
       "      <td>0.098525</td>\n",
       "      <td>0.005626</td>\n",
       "      <td>NaN</td>\n",
       "      <td>0.176582</td>\n",
       "      <td>0.130809</td>\n",
       "      <td>0.230745</td>\n",
       "      <td>NaN</td>\n",
       "      <td>NaN</td>\n",
       "    </tr>\n",
       "    <tr>\n",
       "      <th>2010-06-15</th>\n",
       "      <td>NaN</td>\n",
       "      <td>0.077560</td>\n",
       "      <td>0.038632</td>\n",
       "      <td>NaN</td>\n",
       "      <td>NaN</td>\n",
       "      <td>0.029534</td>\n",
       "      <td>0.050082</td>\n",
       "      <td>0.046018</td>\n",
       "      <td>NaN</td>\n",
       "      <td>0.011717</td>\n",
       "      <td>...</td>\n",
       "      <td>NaN</td>\n",
       "      <td>NaN</td>\n",
       "      <td>0.029585</td>\n",
       "      <td>0.030788</td>\n",
       "      <td>NaN</td>\n",
       "      <td>0.069048</td>\n",
       "      <td>0.068213</td>\n",
       "      <td>0.084718</td>\n",
       "      <td>NaN</td>\n",
       "      <td>NaN</td>\n",
       "    </tr>\n",
       "    <tr>\n",
       "      <th>2010-07-15</th>\n",
       "      <td>0.032169</td>\n",
       "      <td>NaN</td>\n",
       "      <td>0.057266</td>\n",
       "      <td>NaN</td>\n",
       "      <td>NaN</td>\n",
       "      <td>0.027522</td>\n",
       "      <td>0.062664</td>\n",
       "      <td>0.051178</td>\n",
       "      <td>NaN</td>\n",
       "      <td>0.026017</td>\n",
       "      <td>...</td>\n",
       "      <td>NaN</td>\n",
       "      <td>NaN</td>\n",
       "      <td>0.038359</td>\n",
       "      <td>NaN</td>\n",
       "      <td>NaN</td>\n",
       "      <td>0.157979</td>\n",
       "      <td>NaN</td>\n",
       "      <td>0.062111</td>\n",
       "      <td>NaN</td>\n",
       "      <td>NaN</td>\n",
       "    </tr>\n",
       "    <tr>\n",
       "      <th>2010-08-15</th>\n",
       "      <td>0.040077</td>\n",
       "      <td>NaN</td>\n",
       "      <td>0.043330</td>\n",
       "      <td>NaN</td>\n",
       "      <td>NaN</td>\n",
       "      <td>0.057713</td>\n",
       "      <td>NaN</td>\n",
       "      <td>0.072469</td>\n",
       "      <td>NaN</td>\n",
       "      <td>0.021173</td>\n",
       "      <td>...</td>\n",
       "      <td>NaN</td>\n",
       "      <td>0.019110</td>\n",
       "      <td>0.029482</td>\n",
       "      <td>NaN</td>\n",
       "      <td>0.085947</td>\n",
       "      <td>0.084855</td>\n",
       "      <td>NaN</td>\n",
       "      <td>0.106541</td>\n",
       "      <td>0.060286</td>\n",
       "      <td>NaN</td>\n",
       "    </tr>\n",
       "    <tr>\n",
       "      <th>2010-09-15</th>\n",
       "      <td>0.029668</td>\n",
       "      <td>NaN</td>\n",
       "      <td>0.029094</td>\n",
       "      <td>NaN</td>\n",
       "      <td>0.029450</td>\n",
       "      <td>0.090011</td>\n",
       "      <td>NaN</td>\n",
       "      <td>0.056672</td>\n",
       "      <td>NaN</td>\n",
       "      <td>0.020485</td>\n",
       "      <td>...</td>\n",
       "      <td>NaN</td>\n",
       "      <td>0.032150</td>\n",
       "      <td>0.039358</td>\n",
       "      <td>NaN</td>\n",
       "      <td>0.057264</td>\n",
       "      <td>0.078618</td>\n",
       "      <td>NaN</td>\n",
       "      <td>0.066581</td>\n",
       "      <td>0.032692</td>\n",
       "      <td>0.108273</td>\n",
       "    </tr>\n",
       "    <tr>\n",
       "      <th>2010-10-15</th>\n",
       "      <td>0.045586</td>\n",
       "      <td>NaN</td>\n",
       "      <td>0.045253</td>\n",
       "      <td>NaN</td>\n",
       "      <td>0.028907</td>\n",
       "      <td>0.045738</td>\n",
       "      <td>NaN</td>\n",
       "      <td>0.050383</td>\n",
       "      <td>NaN</td>\n",
       "      <td>0.009909</td>\n",
       "      <td>...</td>\n",
       "      <td>NaN</td>\n",
       "      <td>0.027930</td>\n",
       "      <td>0.024677</td>\n",
       "      <td>0.012952</td>\n",
       "      <td>0.058026</td>\n",
       "      <td>NaN</td>\n",
       "      <td>NaN</td>\n",
       "      <td>0.050590</td>\n",
       "      <td>0.027315</td>\n",
       "      <td>0.017030</td>\n",
       "    </tr>\n",
       "    <tr>\n",
       "      <th>2010-11-15</th>\n",
       "      <td>0.058226</td>\n",
       "      <td>0.092625</td>\n",
       "      <td>0.042551</td>\n",
       "      <td>NaN</td>\n",
       "      <td>0.051396</td>\n",
       "      <td>NaN</td>\n",
       "      <td>NaN</td>\n",
       "      <td>0.056203</td>\n",
       "      <td>NaN</td>\n",
       "      <td>0.020330</td>\n",
       "      <td>...</td>\n",
       "      <td>NaN</td>\n",
       "      <td>0.035700</td>\n",
       "      <td>0.034111</td>\n",
       "      <td>0.016540</td>\n",
       "      <td>0.106409</td>\n",
       "      <td>NaN</td>\n",
       "      <td>NaN</td>\n",
       "      <td>0.107169</td>\n",
       "      <td>0.055976</td>\n",
       "      <td>NaN</td>\n",
       "    </tr>\n",
       "    <tr>\n",
       "      <th>2010-12-15</th>\n",
       "      <td>0.110037</td>\n",
       "      <td>0.053874</td>\n",
       "      <td>0.049188</td>\n",
       "      <td>NaN</td>\n",
       "      <td>0.073448</td>\n",
       "      <td>NaN</td>\n",
       "      <td>NaN</td>\n",
       "      <td>0.072646</td>\n",
       "      <td>NaN</td>\n",
       "      <td>NaN</td>\n",
       "      <td>...</td>\n",
       "      <td>NaN</td>\n",
       "      <td>0.054967</td>\n",
       "      <td>0.036479</td>\n",
       "      <td>NaN</td>\n",
       "      <td>0.142332</td>\n",
       "      <td>NaN</td>\n",
       "      <td>NaN</td>\n",
       "      <td>0.179983</td>\n",
       "      <td>0.079742</td>\n",
       "      <td>NaN</td>\n",
       "    </tr>\n",
       "  </tbody>\n",
       "</table>\n",
       "<p>12 rows × 23 columns</p>\n",
       "</div>"
      ],
      "text/plain": [
       "            Baengnyeong  Beijing_RADI  Chen-Kung_Univ  Dalanzadgad   EPA-NCU  \\\n",
       "2010-01-15          NaN      0.061211        0.045836     0.045757  0.023874   \n",
       "2010-02-15          NaN      0.126141        0.083743     0.088876  0.027183   \n",
       "2010-03-15          NaN      0.177428        0.050300     0.102485  0.072157   \n",
       "2010-04-15          NaN      0.194526        0.065657     0.043566  0.122488   \n",
       "2010-05-15          NaN      0.223336        0.065727     0.033986  0.105977   \n",
       "2010-06-15          NaN      0.077560        0.038632          NaN       NaN   \n",
       "2010-07-15     0.032169           NaN        0.057266          NaN       NaN   \n",
       "2010-08-15     0.040077           NaN        0.043330          NaN       NaN   \n",
       "2010-09-15     0.029668           NaN        0.029094          NaN  0.029450   \n",
       "2010-10-15     0.045586           NaN        0.045253          NaN  0.028907   \n",
       "2010-11-15     0.058226      0.092625        0.042551          NaN  0.051396   \n",
       "2010-12-15     0.110037      0.053874        0.049188          NaN  0.073448   \n",
       "\n",
       "            Gwangju_GIST  Hong_Kong_Hok_Tsui  Hong_Kong_PolyU  Lanzhou_City  \\\n",
       "2010-01-15      0.059615                 NaN         0.038909      0.209156   \n",
       "2010-02-15      0.061163                 NaN         0.051850      0.135080   \n",
       "2010-03-15      0.180934            0.116754         0.141424      0.244739   \n",
       "2010-04-15      0.090282            0.072067         0.115780           NaN   \n",
       "2010-05-15      0.117585            0.077967         0.111838           NaN   \n",
       "2010-06-15      0.029534            0.050082         0.046018           NaN   \n",
       "2010-07-15      0.027522            0.062664         0.051178           NaN   \n",
       "2010-08-15      0.057713                 NaN         0.072469           NaN   \n",
       "2010-09-15      0.090011                 NaN         0.056672           NaN   \n",
       "2010-10-15      0.045738                 NaN         0.050383           NaN   \n",
       "2010-11-15           NaN                 NaN         0.056203           NaN   \n",
       "2010-12-15           NaN                 NaN         0.072646           NaN   \n",
       "\n",
       "               Lulin  ...     NUIST      Noto     Osaka  QOMS_CAS     SACOL  \\\n",
       "2010-01-15  0.005336  ...  0.109947       NaN  0.035112  0.023743       NaN   \n",
       "2010-02-15  0.007924  ...  0.119307       NaN  0.038840  0.041428       NaN   \n",
       "2010-03-15  0.011545  ...  0.347140       NaN  0.127290  0.018391       NaN   \n",
       "2010-04-15  0.019157  ...  0.282675       NaN  0.102373  0.016003       NaN   \n",
       "2010-05-15  0.024019  ...       NaN       NaN  0.098525  0.005626       NaN   \n",
       "2010-06-15  0.011717  ...       NaN       NaN  0.029585  0.030788       NaN   \n",
       "2010-07-15  0.026017  ...       NaN       NaN  0.038359       NaN       NaN   \n",
       "2010-08-15  0.021173  ...       NaN  0.019110  0.029482       NaN  0.085947   \n",
       "2010-09-15  0.020485  ...       NaN  0.032150  0.039358       NaN  0.057264   \n",
       "2010-10-15  0.009909  ...       NaN  0.027930  0.024677  0.012952  0.058026   \n",
       "2010-11-15  0.020330  ...       NaN  0.035700  0.034111  0.016540  0.106409   \n",
       "2010-12-15       NaN  ...       NaN  0.054967  0.036479       NaN  0.142332   \n",
       "\n",
       "               Taihu  Taipei_CWB   XiangHe  Xinglong  Yeomsan-Myeon  \n",
       "2010-01-15       NaN         NaN  0.091098       NaN            NaN  \n",
       "2010-02-15  0.087236    0.088850  0.115736       NaN            NaN  \n",
       "2010-03-15  0.272141    0.085634  0.141574       NaN            NaN  \n",
       "2010-04-15  0.261105    0.122990  0.164962       NaN            NaN  \n",
       "2010-05-15  0.176582    0.130809  0.230745       NaN            NaN  \n",
       "2010-06-15  0.069048    0.068213  0.084718       NaN            NaN  \n",
       "2010-07-15  0.157979         NaN  0.062111       NaN            NaN  \n",
       "2010-08-15  0.084855         NaN  0.106541  0.060286            NaN  \n",
       "2010-09-15  0.078618         NaN  0.066581  0.032692       0.108273  \n",
       "2010-10-15       NaN         NaN  0.050590  0.027315       0.017030  \n",
       "2010-11-15       NaN         NaN  0.107169  0.055976            NaN  \n",
       "2010-12-15       NaN         NaN  0.179983  0.079742            NaN  \n",
       "\n",
       "[12 rows x 23 columns]"
      ]
     },
     "execution_count": 6,
     "metadata": {},
     "output_type": "execute_result"
    }
   ],
   "source": [
    "data"
   ]
  },
  {
   "cell_type": "markdown",
   "id": "9c10067d-3ef9-42ad-83f1-8c0874c6ff46",
   "metadata": {},
   "source": [
    "`UngriddedData.from_station_data()` expects that the station data object has an `altitude` and that the `Longitude ` and `Latitude` is written in lower case letters."
   ]
  },
  {
   "cell_type": "code",
   "execution_count": 7,
   "id": "d78e5119-669b-4fcf-a60b-1de9082412da",
   "metadata": {},
   "outputs": [],
   "source": [
    "station_coordinates = station_coordinates.rename({'Longitude':'longitude', 'Latitude':'latitude'},axis=1)\n",
    "station_coordinates.loc[:,'altitude'] = np.nan"
   ]
  },
  {
   "cell_type": "markdown",
   "id": "f585d555-5de5-4a27-bc28-9cb5681a2252",
   "metadata": {},
   "source": [
    "Loading the AERONET station data into `StationData` objects. Specifying the units and frequency of the observational data. A very nice feature of `pyaerocom` is that it can colocate model and observation time series of different frequency by resampling to the longest time frequency.  "
   ]
  },
  {
   "cell_type": "code",
   "execution_count": 8,
   "id": "bbb794a5-4d0a-4e9f-a833-afdd90f62651",
   "metadata": {},
   "outputs": [],
   "source": [
    "station_list = []\n",
    " #\n",
    "for station_name, coord in station_coordinates.iterrows():\n",
    "    temp_station = StationData(data_id='od550gt1aer',\n",
    "        od550gt1aer=data.loc[:,station_name].values,station_coords=coord.to_dict(),\n",
    "                               dtime=data.index.values,\n",
    "        station_name = station_name, var_info={'od550gt1aer':{'units':1, 'ts_type':'monthly'}}\n",
    "        )\n",
    "    station_list.append(temp_station)"
   ]
  },
  {
   "cell_type": "markdown",
   "id": "c940e6f3-1f73-4e54-b4e6-e8be8e46b645",
   "metadata": {},
   "source": [
    "After the AERONET data have been converted into `StationData` objects, we can create an `UngriddedData` object of the station data. The `UngriddedData` can then be colacted with the model data using `colocate_gridded_ungridded()` function."
   ]
  },
  {
   "cell_type": "code",
   "execution_count": 9,
   "id": "119ef007-f53c-4f1c-a900-86c6efd02f96",
   "metadata": {},
   "outputs": [],
   "source": [
    "ungridded = UngriddedData.from_station_data(station_list)"
   ]
  },
  {
   "cell_type": "markdown",
   "id": "cd82cf33-ee6e-407a-adae-f533068b0da5",
   "metadata": {},
   "source": [
    "## Colocate the AEROCOM median to station data"
   ]
  },
  {
   "cell_type": "code",
   "execution_count": 10,
   "id": "79a47010-d6f3-4d56-9aea-321e66e11fa3",
   "metadata": {},
   "outputs": [],
   "source": [
    "aerocom_m =  ReadGridded(data_id='AEROCOM-MEDIAN-2x3_AP3-CTRL').read_var('od550gt1aer')"
   ]
  },
  {
   "cell_type": "code",
   "execution_count": 11,
   "id": "e607d294-f059-4de0-836e-a20489cf940f",
   "metadata": {},
   "outputs": [],
   "source": [
    "colocated_data = colocate_gridded_ungridded(aerocom_m, ungridded, start=2010, ts_type='monthly')"
   ]
  },
  {
   "cell_type": "markdown",
   "id": "ea3cf216-9b35-4afd-b468-2acb91daf548",
   "metadata": {},
   "source": [
    "## Evaluate the AeroCom median to the AERONET station"
   ]
  },
  {
   "cell_type": "markdown",
   "id": "1dcab699-cf86-47ab-974f-21b45d0fd88a",
   "metadata": {},
   "source": [
    "The AeroCom median and quickly be evaluated using built in `plot_scatter()`  function. "
   ]
  },
  {
   "cell_type": "code",
   "execution_count": 14,
   "id": "8ae827b0-305c-4ce7-aa7a-78b382a5c72f",
   "metadata": {},
   "outputs": [
    {
     "data": {
      "text/plain": [
       "<AxesSubplot:title={'center':'Jan 2010-Dec 2010 (monthly)'}, xlabel='od550gt1aer', ylabel='AEROCOM-MEDIAN-2x3_AP3-CTRL'>"
      ]
     },
     "execution_count": 14,
     "metadata": {},
     "output_type": "execute_result"
    },
    {
     "data": {
      "image/png": "[encoded data removed]",
      "text/plain": [
       "<Figure size 720x576 with 1 Axes>"
      ]
     },
     "metadata": {
      "needs_background": "light"
     },
     "output_type": "display_data"
    }
   ],
   "source": [
    "colocated_data.plot_scatter()"
   ]
  },
  {
   "cell_type": "code",
   "execution_count": 19,
   "id": "2dd7c680-48c7-4dc7-ae24-b40628086b3b",
   "metadata": {},
   "outputs": [
    {
     "data": {
      "text/plain": [
       "<GeoAxesSubplot:>"
      ]
     },
     "execution_count": 19,
     "metadata": {},
     "output_type": "execute_result"
    },
    {
     "data": {
      "image/png": "[encoded data removed]",
      "text/plain": [
       "<Figure size 432x288 with 2 Axes>"
      ]
     },
     "metadata": {
      "needs_background": "light"
     },
     "output_type": "display_data"
    }
   ],
   "source": [
    "fig,ax = plt.subplots(subplot_kw={'projection':ccrs.PlateCarree()})\n",
    "ax.set_extent([60,150,15,60])\n",
    "ax.coastlines()\n",
    "pya.plot.mapping.plot_nmb_map_colocateddata(colocated_data, ax=ax)"
   ]
  }
 ],
 "metadata": {
  "kernelspec": {
   "display_name": "Python 3",
   "language": "python",
   "name": "python3"
  },
  "language_info": {
   "codemirror_mode": {
    "name": "ipython",
    "version": 3
   },
   "file_extension": ".py",
   "mimetype": "text/x-python",
   "name": "python",
   "nbconvert_exporter": "python",
   "pygments_lexer": "ipython3",
   "version": "3.9.7"
  }
 },
 "nbformat": 4,
 "nbformat_minor": 5
}
