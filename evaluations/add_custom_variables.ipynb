{
 "cells": [
  {
   "cell_type": "markdown",
   "metadata": {},
   "source": [
    "# Adding Custom Variables with EMEP\n",
    "\n",
    "In this tutorial we will go through how to add custom variables to our PyAeroVal evaluation, as well as how to read these from EMEP. We will add two new variables: `elementalcarbon` and `organiccarbon`. These variables are just meant as illustrative examples, and variables for elemental and organic carbon do already exist in Pyaerocom.\n",
    "\n",
    "Adding the variables will be done in three steps:\n",
    "\n",
    "1. Register the new variables in Pyaerocom\n",
    "2. Tell Pyaercom how to read `organiccarbon` from EMEP \n",
    "3. Combine two existing variables to make `elementalcarbon`\n",
    "\n",
    "Before continuing, please note:\n",
    "1. You need to have access to PPI/Lustre to do this tutorial, due to it using EMEP files found there.\n",
    "2. Adding custom variables should only be done for testing, and not production! See the last section."
   ]
  },
  {
   "cell_type": "markdown",
   "metadata": {},
   "source": [
    "## Registering the New Variables\n",
    "\n",
    "Here we will look at how to add an extra variable, in the same way as is done in `variables.ini`. This is needed so that PyAerocom knows about the variable and it units.\n",
    "\n",
    "PyAerocom has a static object called `config`, which contains a function for adding new variables"
   ]
  },
  {
   "cell_type": "code",
   "execution_count": 2,
   "metadata": {},
   "outputs": [],
   "source": [
    "from pyaerocom.variable import Variable\n",
    "from pyaerocom import const\n",
    "\n",
    "variables = {\n",
    "    \"elemental_carbon\": Variable(var_name=\"elementalcarbon\", units=\"ug Cm-3\"),\n",
    "    \"organic_carbon\": Variable(var_name=\"organiccarbon\", units=\"ug Cm-3\"),\n",
    "}\n",
    "\n",
    "const.register_custom_variables(variables)"
   ]
  },
  {
   "cell_type": "markdown",
   "metadata": {},
   "source": [
    "The function `register_custom_variables` takes a dictionary where the values are `Variable` objects. These objects need at least the variable name and unit. It can also take other arguments, such as `min` and `max`. In [`variables.ini`](https://github.com/metno/pyaerocom/blob/main-dev/pyaerocom/data/variables.ini) you can see all the other arguments that are used.\n",
    "\n"
   ]
  },
  {
   "cell_type": "markdown",
   "metadata": {},
   "source": [
    "## Reading From EMEP\n",
    "\n",
    "PyAerocom now know that we have two new variables, but since they are not define anywhere inside the PyAerocom code, PyAerocom does not know from where to read the data. We will here tell PyAerocom how to read the two variables from EMEP.\n",
    "\n",
    "### Reading From an EMEP File\n",
    "\n",
    "The most common way of reading data from EMEP is to just read them directly from an EMEP file. To do this, PyAerocom needs to know what that variable is called in EMEP. Normally PyAerocom gets this mapping from [this file](https://github.com/metno/pyaerocom/blob/main-dev/pyaerocom/io/mscw_ctm/emep_variables.toml), but since we just introduced a new variables, we need to define this mapping our self. This is done when defining our EMEP model entry in our config by adding the option `emep_vars`\n"
   ]
  },
  {
   "cell_type": "code",
   "execution_count": 3,
   "metadata": {},
   "outputs": [],
   "source": [
    "folder_EMEP = \"/lustre/storeB/project/fou/kl/emep/ModelRuns/2021_REPORTING/TRENDS/2018\"\n",
    "\n",
    "EMEP = dict(\n",
    "        model_id=\"EMEP\",\n",
    "        model_data_dir=folder_EMEP,\n",
    "        gridded_reader_id={\"model\": \"ReadMscwCtm\"}, # Tells pyaerocom to use the EMEP reader instead of the default aerocom reader\n",
    "\n",
    "        emep_vars={\"organiccarbon\": \"SURF_ugC_PM_OM25\"},\n",
    "    )"
   ]
  },
  {
   "cell_type": "markdown",
   "metadata": {},
   "source": [
    "Our new mapping is thus defined as `\"organiccarbon\": \"SURF_ugC_PM_OM25\"`. PyAerocom will now read our first variables\n",
    "\n",
    "### Combining Existing Variables\n",
    "\n",
    "The other way PyAerocom gets variables from EMEP is to combine other variables. In this case we will combine the already existing variables `concecCoarse` and `concecFine` to make our new variable `elementalcarbon`. \n",
    "\n",
    "This takes a bit more work than what we did above. We will start by creating a new function we will use to tell PyAerocom how to combine `concecCoarse` and `concecFine`"
   ]
  },
  {
   "cell_type": "code",
   "execution_count": 4,
   "metadata": {},
   "outputs": [],
   "source": [
    "def calc_elecmentalcarbon(concecCoarse, concecFine):\n",
    "\n",
    "    elementalcarbon = concecCoarse.copy(deep=True) + concecFine.copy(\n",
    "        deep=True\n",
    "    )  # Adds the two variables\n",
    "    elementalcarbon.attrs[\"units\"] = \"ug C m-3\"  # Make sure the unit is correct\n",
    "    return elementalcarbon"
   ]
  },
  {
   "cell_type": "markdown",
   "metadata": {},
   "source": [
    "This function tells PyAerocom that we want to add the two variables. It also makes sure that we have the correct unit (in this case the wrong unit, but again this is just an example). We now need to tell PyAerocom that we have this function. This is again done in the EMEP model entry"
   ]
  },
  {
   "cell_type": "code",
   "execution_count": 5,
   "metadata": {},
   "outputs": [],
   "source": [
    "folder_EMEP = \"/lustre/storeB/project/fou/kl/emep/ModelRuns/2021_REPORTING/TRENDS/2018\"\n",
    "\n",
    "EMEP = dict(\n",
    "    model_id=\"EMEP\",\n",
    "    model_data_dir=folder_EMEP,\n",
    "    gridded_reader_id={\n",
    "        \"model\": \"ReadMscwCtm\"\n",
    "    },  # Tells pyaerocom to use the EMEP reader instead of the default aerocom reader\n",
    "    emep_vars={\"organiccarbon\": \"SURF_ugC_PM_OM25\"},\n",
    "    model_read_aux={\n",
    "        \"elementalcarbon\": {\n",
    "            \"vars_required\": [\"concecCoarse\", \"concecFine\"],\n",
    "            \"fun\": calc_elecmentalcarbon,\n",
    "        }\n",
    "    },\n",
    ")"
   ]
  },
  {
   "cell_type": "markdown",
   "metadata": {},
   "source": [
    "We see here that we have the new option `model_read_aux`. This option takes keys which are our new variables. The values are also dictionaries:\n",
    "\n",
    "- `vars_required`: A list of the PyAerocom variables needed for the calculation. In our case `concecCoarse` and `concecFine`.\n",
    "- `fun`: The function which tells PyAerocom how to combine the variables. In our case the function we made just above\n",
    "\n",
    "Note that for other used `vars_required` doesn't need to have two variables in the list. We can make combinations with arbitrary many variables. We can also use newly defined variables, such as `organiccarbon`.\n",
    "\n",
    "\n",
    "The config for this evaluation can be found [here](./scripts/add_custom_variables.py)."
   ]
  },
  {
   "cell_type": "markdown",
   "metadata": {},
   "source": [
    "## Best Practice\n",
    "\n",
    "Note that this way of adding custom variables should only be used for testing, and not in production. Meaning that when you have found all the variables you want to add to AeroTools (Pyaerocom and/or the EMEP reader), you should make an issue on [the PyAerocom github](https://github.com/metno/pyaerocom) or ask one of the developers to add it. There are couple of reasons why\n",
    "\n",
    "1. It's it not as easy to reproduce experiments where you have added custom variables, since your additions are not documented on the webpage or in the PyAerocom code.\n",
    "2. You might get errors/memory errors which are difficult to handle, especially with the EMEP reader\n",
    "3. Other parts having to do with the variables are hardcoded in PyAerocom/PyAeroval. Examples are axis scaling, display names, etc."
   ]
  }
 ],
 "metadata": {
  "kernelspec": {
   "display_name": "pya_dev",
   "language": "python",
   "name": "python3"
  },
  "language_info": {
   "codemirror_mode": {
    "name": "ipython",
    "version": 3
   },
   "file_extension": ".py",
   "mimetype": "text/x-python",
   "name": "python",
   "nbconvert_exporter": "python",
   "pygments_lexer": "ipython3",
   "version": "3.10.12"
  }
 },
 "nbformat": 4,
 "nbformat_minor": 2
}
