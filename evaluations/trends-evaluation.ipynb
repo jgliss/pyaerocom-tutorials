{
 "cells": [
  {
   "cell_type": "markdown",
   "metadata": {},
   "source": [
    "# Trend Evaluation\n",
    "In this tutorial we are going to show how to do trend evaluations, and the two different types of trends AeroTools can evaluate.\n",
    "\n",
    "It is assumed that you have done evaluations before, so we are not going to go through the configuration in detail, and instead only discuss the parts that are important for trends. We will start with defining a typical configuration setup. We will then look at the new options that are needed for trend calculations, both what they are, and some details about how they work under the hood. Before running the evaluation we will discuss the two different types of trends that are calculated. We will also discuss some of the errors you will encounter while calculating trends."
   ]
  },
  {
   "cell_type": "markdown",
   "metadata": {},
   "source": [
    "## The config\n",
    "\n",
    "Here will define a quite normal config for running an evaluation with EBAS and EMEP"
   ]
  },
  {
   "cell_type": "code",
   "execution_count": 1,
   "metadata": {},
   "outputs": [
    {
     "ename": "SyntaxError",
     "evalue": "invalid syntax (1406459490.py, line 1)",
     "output_type": "error",
     "traceback": [
      "\u001b[0;36m  Cell \u001b[0;32mIn[1], line 1\u001b[0;36m\u001b[0m\n\u001b[0;31m    output_dir = <output_dir>\"/data\"\u001b[0m\n\u001b[0m                 ^\u001b[0m\n\u001b[0;31mSyntaxError\u001b[0m\u001b[0;31m:\u001b[0m invalid syntax\n"
     ]
    }
   ],
   "source": [
    "output_dir = <output_dir>\n",
    "exp_pi = <your name>\n",
    "\n",
    "data_dir = output_dir + \"/data\"\n",
    "coldata_dir = output_dir + \"/coldata\"\n",
    "proj_id = \"tutorial\"\n",
    "exp_id = \"emep-trends\""
   ]
  },
  {
   "cell_type": "code",
   "execution_count": 2,
   "metadata": {},
   "outputs": [],
   "source": [
    "DEFAULT_RESAMPLE_CONSTRAINTS = dict(\n",
    "    yearly=dict(monthly=9),\n",
    "    monthly=dict(\n",
    "        daily=1,\n",
    "        weekly=1,\n",
    "    ),\n",
    "    daily=dict(hourly=1),\n",
    ")"
   ]
  },
  {
   "cell_type": "code",
   "execution_count": null,
   "metadata": {},
   "outputs": [],
   "source": [
    "CFG = dict(\n",
    "    # Output directories\n",
    "    json_basedir=data_dir,\n",
    "    coldata_basedir=coldata_dir,\n",
    "\n",
    "    # Run options\n",
    "    reanalyse_existing=True,        # if True, existing colocated data files will be deleted\n",
    "    raise_exceptions=True,          # if True, the analysis will stop whenever an error occurs \n",
    "    clear_existing_json=False,      # if True, deletes previous output before running\n",
    "\n",
    "    # Map Options\n",
    "    add_model_maps=False,           # Adds a plot of the whole map. Very slow!!!\n",
    "    only_model_maps=False,          # Adds only plot above, without any other evaluation\n",
    "    filter_name=\"ALL-wMOUNTAINS\",   # Regional filter for analysis\n",
    "    map_zoom=\"Europe\",              # Zoom level. For EMEP, Europe is typically used\n",
    "    regions_how=\"country\",          # Calculates statistics for different regions. Typically \"country\" is used, but that does not work for satellite data\n",
    "\n",
    "    # Time and Frequency Options\n",
    "    ts_type=\"monthly\",              # Colocation frequency (no statistics in higher resolution can be computed)\n",
    "    freqs=[\"monthly\", \"yearly\"],    # Frequencies that are evaluated\n",
    "    main_freq=\"monthly\",            # Frequency that is displayed when opening webpage\n",
    "    periods=[\"2000-2010\"],               # List of years or periods of years that are evaluated. E.g. \"2005\" or \"2001-2020\"\n",
    "    \n",
    "\n",
    "    # Statistical Options\n",
    "\n",
    "    min_num_obs = DEFAULT_RESAMPLE_CONSTRAINTS,\n",
    "    obs_remove_outliers=False,\n",
    "    model_remove_outliers=False,\n",
    "    colocate_time=True,\n",
    "    zeros_to_nan=False,\n",
    "    weighted_stats=True,\n",
    "    annual_stats_constrained=True,\n",
    "    harmonise_units=True,\n",
    "    resample_how={\"vmro3max\": {\"daily\": {\"hourly\": \"max\"}}}, # How to handle Ozone. Used all the time in EMEP\n",
    "\n",
    "    # Experiment Metadata\n",
    "    exp_pi=exp_pi,\n",
    "    proj_id=proj_id,\n",
    "    exp_id=exp_id,\n",
    "    exp_name=\"Evaluation of EMEP data, with trends\",\n",
    "    exp_descr=(\"Evaluation of EMEP data, with trends\"),\n",
    "    public=True,\n",
    ")\n"
   ]
  },
  {
   "cell_type": "markdown",
   "metadata": {},
   "source": [
    "Notice that we have more that one year in this config, instead using the period *2000-2010*. We normally want multiple years to run a trend evaluation.\n",
    "\n",
    "We then define you EBAS observations"
   ]
  },
  {
   "cell_type": "code",
   "execution_count": null,
   "metadata": {},
   "outputs": [],
   "source": [
    "BASE_FILTER = {\n",
    "    \"latitude\": [30, 82],\n",
    "    \"longitude\": [-30, 90],\n",
    "    \"altitude\": [-200, 5000],\n",
    "}\n",
    "\n",
    "EBAS_FILTER = {\n",
    "    **BASE_FILTER,\n",
    "    \"data_level\": [None, 2],\n",
    "    \"set_flags_nan\": True,\n",
    "}\n",
    "\n",
    "CFG[\"obs_cfg\"] = {\n",
    "    \"EBAS-tc\": dict(\n",
    "        obs_id=\"EBASMC\",\n",
    "        web_interface_name=\"EBAS\",\n",
    "        obs_vars=[\n",
    "            \"concpm10\",\n",
    "            \"concpm25\",\n",
    "        ],\n",
    "        obs_vert_type=\"Surface\",\n",
    "        colocate_time=True,\n",
    "        ts_type=\"monthly\",\n",
    "        obs_filters=EBAS_FILTER,\n",
    "    )\n",
    "}"
   ]
  },
  {
   "cell_type": "markdown",
   "metadata": {},
   "source": [
    "We then add an EMEP model with data for our defined period"
   ]
  },
  {
   "cell_type": "code",
   "execution_count": null,
   "metadata": {},
   "outputs": [],
   "source": [
    "# Dir where emep data is found\n",
    "folder_EMEP = f\"/lustre/storeB/project/fou/kl/emep/ModelRuns/2021_REPORTING/TRENDS/\"\n",
    "\n",
    "# Setup for models used in analysis\n",
    "CFG[\"model_cfg\"] = {\n",
    "    \"EMEP\": dict(\n",
    "        model_id=\"EMEP\",\n",
    "        model_data_dir=folder_EMEP,\n",
    "        gridded_reader_id={\"model\": \"ReadMscwCtm\"},\n",
    "        model_use_vars={\"vmro3\": \"vmro3max\"},\n",
    "        model_rename_vars={\"vmro3max\": \"vmro3\"},\n",
    "        model_ts_type_read=\"daily\",\n",
    "    ),\n",
    "}"
   ]
  },
  {
   "cell_type": "markdown",
   "metadata": {},
   "source": [
    "## Adding the Trend Options\n",
    "We now have a standard configuration, but with enough years to calculate the trend. But to enable the trends to be calculated, we need some more options:"
   ]
  },
  {
   "cell_type": "code",
   "execution_count": null,
   "metadata": {},
   "outputs": [],
   "source": [
    "CFG.update(\n",
    "    dict(\n",
    "        add_trends=True,\n",
    "        avg_over_trends=True,\n",
    "        obs_min_yrs=7,\n",
    "        stats_min_yrs=7,\n",
    "        sequential_yrs=False,\n",
    "    )\n",
    ")"
   ]
  },
  {
   "cell_type": "markdown",
   "metadata": {},
   "source": [
    "We can then go over them one by one\n",
    "\n",
    "- `add_trends`: This simple enables trends calculations\n",
    "- `avg_over_trends`: This enables a second way of calculating trends. We will look closer at the two different methods below. This defaults to False, but should be enabled\n",
    "- `obs_min_yrs`: When calculating trends we often want to only calculate it over years where we have enough *valid* years. A valid year is a year where each season have atleast one data point. This options tells AeroTools to remove stations with fewer valid years that the given options, here 7 years. By default this is set to 0, but it should be 70-75% of you period.\n",
    "- `stats_min_yrs`: Similar to the above option, but instead tells AeroTools how many valid years are needed for  the trends to be calculated. Should be the same as `obs_min_yrs`\n",
    "- `sequential_yrs`: Whether or not the valid years have to be sequential. Default is False"
   ]
  },
  {
   "cell_type": "markdown",
   "metadata": {},
   "source": [
    "## The Two Ways of Calculating Trends\n",
    "\n",
    "When calculating trends over more than one station, such as the trend for a country or Europe, there are two ways of doing this.\n",
    "\n",
    "The first way is to calculate the average time series over a region of multiple stations, then calculate the trend. This is the old way of doing things, that has been in pyaerocom since the start.\n",
    "\n",
    "The second way is to calculate the trends for all the stations in the region, and then take the average of the slope and intersect of the trend, which then defines the regional trend. This is the new way of doing trend calculation, and is done when `avg_over_trends` is enabled. Notice that the first way of doing it is also done when this is enabled.\n",
    "\n",
    "Some notes on the second way: both the mean and median of the station trends are calculated, meaning you can choose which statistic to use. One downside of taking the mean/median of the trends is that we also need to find a way of calculating a new p-value of the new regional trend. Instead of taking the mean/median of the station trends, we have instead used the [harmoic mean](https://en.wikipedia.org/wiki/Harmonic_mean) to find the regional p-values."
   ]
  },
  {
   "cell_type": "markdown",
   "metadata": {},
   "source": [
    "## Running the Evaluation\n",
    "\n",
    "We can now run this evaluation. A pure python script for this evaluation can be found [here](./scripts/trends-evaluation.py). You will notice that it take some time to run this evaluation. We will talk about that below. [Here](https://aeroval-test.met.no/danielh/pages/evaluation/?project=tutorial&experiment=emep-trends&statistic=obs%2Fmod_trend&station=ALL#) you can find a ready made version of the evaluation.\n",
    "\n",
    "\n",
    "\n",
    "### The Interface\n",
    "\n",
    "<img src=\"./trend-interface.png\" alt=\"Trend interface\" style=\"width:800px;\"/>\n",
    "\n",
    "Here we can see how it look with the new trends. At the right (in the circle) we can see the option to switch between the different methods for calculating the trends"
   ]
  },
  {
   "cell_type": "markdown",
   "metadata": {},
   "source": [
    "## Things to think about\n",
    "\n",
    "As we saw above the evaluation was quite slow. The reason is, of course, that we use multiple years of model data from EMEP to see a trend. This means that a lot of data is read, meaning that the evaluation is slow and takes up a lot of memory."
   ]
  }
 ],
 "metadata": {
  "kernelspec": {
   "display_name": "pya_dev",
   "language": "python",
   "name": "python3"
  },
  "language_info": {
   "codemirror_mode": {
    "name": "ipython",
    "version": 3
   },
   "file_extension": ".py",
   "mimetype": "text/x-python",
   "name": "python",
   "nbconvert_exporter": "python",
   "pygments_lexer": "ipython3",
   "version": "3.10.12"
  }
 },
 "nbformat": 4,
 "nbformat_minor": 2
}
